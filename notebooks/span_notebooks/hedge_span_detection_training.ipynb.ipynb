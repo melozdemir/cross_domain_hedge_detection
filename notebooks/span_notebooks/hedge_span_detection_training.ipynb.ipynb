{
 "cells": [
  {
   "cell_type": "code",
   "execution_count": null,
   "metadata": {
    "_cell_guid": "b1076dfc-b9ad-4769-8c92-a6c4dae69d19",
    "_uuid": "8f2839f25d086af736a60e9eeb907d3b93b6e0e5",
    "execution": {
     "iopub.execute_input": "2025-03-25T23:09:07.608276Z",
     "iopub.status.busy": "2025-03-25T23:09:07.607891Z",
     "iopub.status.idle": "2025-03-25T23:09:07.614943Z",
     "shell.execute_reply": "2025-03-25T23:09:07.613886Z",
     "shell.execute_reply.started": "2025-03-25T23:09:07.608234Z"
    },
    "trusted": true
   },
   "outputs": [],
   "source": [
    "from xml.etree import ElementTree as ET\n",
    "from torch.utils.data import Dataset, DataLoader\n",
    "from transformers import XLNetTokenizer, XLNetModel, XLNetForSequenceClassification, AutoTokenizer, AutoModel, BertTokenizer, BertModel\n",
    "import torch\n",
    "from torch import nn, optim\n",
    "import pandas as pd\n",
    "import numpy as np\n",
    "import os\n",
    "import re\n",
    "from tqdm import tqdm\n",
    "from sklearn.metrics import f1_score,accuracy_score,precision_score,recall_score,confusion_matrix,classification_report\n",
    "from sklearn.model_selection import train_test_split\n",
    "from sklearn.preprocessing import StandardScaler,MinMaxScaler,OneHotEncoder,LabelEncoder\n",
    "\n",
    "import matplotlib.pyplot as plt\n",
    "import seaborn as sns\n",
    "sns.set_theme(style=\"darkgrid\")\n",
    "import json\n",
    "import csv\n",
    "import zipfile\n",
    "\n"
   ]
  },
  {
   "cell_type": "markdown",
   "metadata": {},
   "source": [
    "# Data preprocessing for Span detection training # "
   ]
  },
  {
   "cell_type": "code",
   "execution_count": null,
   "metadata": {
    "trusted": true
   },
   "outputs": [],
   "source": [
    "# Configuration\n",
    "\n",
    "############# Indicate trans_model to fine-tune: bert, scibert or xlnet #############\n",
    "trans_model = 'xlnet'\n",
    "\n",
    "############# Indicate data for training: hedgepeer or bioscope #############\n",
    "data = 'bioscope'"
   ]
  },
  {
   "cell_type": "code",
   "execution_count": null,
   "metadata": {
    "execution": {
     "iopub.execute_input": "2025-03-25T23:10:46.475908Z",
     "iopub.status.busy": "2025-03-25T23:10:46.475426Z",
     "iopub.status.idle": "2025-03-25T23:10:46.771551Z",
     "shell.execute_reply": "2025-03-25T23:10:46.770506Z",
     "shell.execute_reply.started": "2025-03-25T23:10:46.475871Z"
    },
    "trusted": true
   },
   "outputs": [],
   "source": [
    "# Dataset load and visualization\n",
    "root = '../input'\n",
    "os.chdir(root)\n",
    "\n",
    "# Change dataset path if necessary \n",
    "hedgepeer_path = 'hedgepeer/HedgePeer.jsonl'\n",
    "bioscope_path = 'merged-bioscope/merged_bioscope.jsonl'\n",
    "\n",
    "# Select dataset path based on 'data' variable\n",
    "if data == 'hedgepeer':\n",
    "    dataObj = pd.read_json(path_or_buf=hedgepeer_path, lines=True)\n",
    "elif data == 'bioscope':\n",
    "    dataObj = pd.read_json(path_or_buf=bioscope_path, lines=True)\n",
    "else:\n",
    "    raise ValueError(\"Invalid dataset name. Define 'data' as 'bioscope' or 'hedgepeer'.\")\n",
    "\n",
    "data_list = []\n",
    "for index, row in dataObj.iterrows():\n",
    "    rev_id = row['Review_id']\n",
    "    sents = row['Sentences']\n",
    "    for s in sents:\n",
    "        hedges = s['Hedges']\n",
    "        if(len(hedges)==0):\n",
    "            d = {}\n",
    "            d['Review_id'] = rev_id\n",
    "            d['Sentence_id'] = s['Sentence_id']\n",
    "            d['Raw Sentence'] = s['Sentence']\n",
    "            d['Hedged Sentence'] = s['Sentence']\n",
    "            d['Hedge'] = 'NO HEDGE'\n",
    "            d['Span'] = None\n",
    "            data_list.append(d)\n",
    "        else:\n",
    "            for h in hedges:\n",
    "                d = {}\n",
    "                d['Review_id'] = rev_id\n",
    "                d['Sentence_id'] = s['Sentence_id']\n",
    "                d['Raw Sentence'] = s['Sentence']\n",
    "                d['Hedged Sentence'] = h['Hedged Sentence']\n",
    "                d['Hedge'] = h['Hedge']\n",
    "                d['Span'] = h['Span']\n",
    "                data_list.append(d)"
   ]
  },
  {
   "cell_type": "code",
   "execution_count": null,
   "metadata": {
    "execution": {
     "iopub.execute_input": "2025-03-25T23:10:49.324969Z",
     "iopub.status.busy": "2025-03-25T23:10:49.324619Z",
     "iopub.status.idle": "2025-03-25T23:10:49.363932Z",
     "shell.execute_reply": "2025-03-25T23:10:49.362905Z",
     "shell.execute_reply.started": "2025-03-25T23:10:49.324943Z"
    },
    "trusted": true
   },
   "outputs": [],
   "source": [
    "df = pd.DataFrame(data_list)\n",
    "df"
   ]
  },
  {
   "cell_type": "code",
   "execution_count": null,
   "metadata": {
    "execution": {
     "iopub.execute_input": "2025-03-25T23:10:55.457139Z",
     "iopub.status.busy": "2025-03-25T23:10:55.456797Z",
     "iopub.status.idle": "2025-03-25T23:10:55.483494Z",
     "shell.execute_reply": "2025-03-25T23:10:55.482417Z",
     "shell.execute_reply.started": "2025-03-25T23:10:55.457113Z"
    },
    "trusted": true
   },
   "outputs": [],
   "source": [
    "\n",
    "rev_id = df['Review_id']\n",
    "sen_id = df['Sentence_id']\n",
    "unq_id = [i+'_'+str(j) for i,j in zip(rev_id,sen_id)]\n",
    "df['Unique_id'] = unq_id\n",
    "df"
   ]
  },
  {
   "cell_type": "code",
   "execution_count": null,
   "metadata": {
    "execution": {
     "iopub.execute_input": "2025-03-25T23:10:58.802028Z",
     "iopub.status.busy": "2025-03-25T23:10:58.801662Z",
     "iopub.status.idle": "2025-03-25T23:10:58.813346Z",
     "shell.execute_reply": "2025-03-25T23:10:58.812249Z",
     "shell.execute_reply.started": "2025-03-25T23:10:58.801999Z"
    },
    "trusted": true
   },
   "outputs": [],
   "source": [
    "# Count how many unique_id values are there\n",
    "unique_id_count = df['Unique_id'].nunique()\n",
    "unique_id_count"
   ]
  },
  {
   "cell_type": "code",
   "execution_count": null,
   "metadata": {
    "execution": {
     "iopub.execute_input": "2025-03-25T23:11:00.514467Z",
     "iopub.status.busy": "2025-03-25T23:11:00.514073Z",
     "iopub.status.idle": "2025-03-25T23:11:00.522428Z",
     "shell.execute_reply": "2025-03-25T23:11:00.521417Z",
     "shell.execute_reply.started": "2025-03-25T23:11:00.514437Z"
    },
    "trusted": true
   },
   "outputs": [],
   "source": [
    "df['Span']"
   ]
  },
  {
   "cell_type": "code",
   "execution_count": null,
   "metadata": {
    "execution": {
     "iopub.execute_input": "2025-03-22T22:49:49.846347Z",
     "iopub.status.busy": "2025-03-22T22:49:49.846118Z",
     "iopub.status.idle": "2025-03-22T22:49:50.299267Z",
     "shell.execute_reply": "2025-03-22T22:49:50.298361Z",
     "shell.execute_reply.started": "2025-03-22T22:49:49.846328Z"
    },
    "trusted": true
   },
   "outputs": [],
   "source": [
    "df.to_csv(f'/kaggle/working/{data}_df_unique_id.csv')"
   ]
  },
  {
   "cell_type": "code",
   "execution_count": null,
   "metadata": {
    "execution": {
     "iopub.execute_input": "2025-03-22T22:49:50.301122Z",
     "iopub.status.busy": "2025-03-22T22:49:50.300818Z",
     "iopub.status.idle": "2025-03-22T22:50:10.086084Z",
     "shell.execute_reply": "2025-03-22T22:50:10.085180Z",
     "shell.execute_reply.started": "2025-03-22T22:49:50.301089Z"
    },
    "trusted": true
   },
   "outputs": [],
   "source": [
    "# Group by unique_id\n",
    "\n",
    "unq_list = []\n",
    "sent_list = []\n",
    "hedged_sent_list = []\n",
    "hed_list = []\n",
    "span_list = []\n",
    "\n",
    "\n",
    "gp = df.groupby(by=['Unique_id'])\n",
    "for name,grp in tqdm(gp):\n",
    "    sent_df = gp.get_group(name)\n",
    "    raw_sent = list(set(sent_df['Raw Sentence']))\n",
    "    hed_sent = list(sent_df['Hedged Sentence'])\n",
    "        \n",
    "    sent_hedges = list(sent_df['Hedge'])\n",
    "    sent_spans = list(sent_df['Span'])\n",
    "    sent_hed_span = [(i,j,k) for i,j,k in zip(hed_sent,sent_hedges,sent_spans) if j not in ['NO HEDGE','IDENT_PRECED']]\n",
    "        \n",
    "    hedged_sents = [i[0] for i in sent_hed_span]\n",
    "    hedges = [i[1] for i in sent_hed_span]\n",
    "    spans = [i[2] for i in sent_hed_span]\n",
    "        \n",
    "    unq_list.append(name)\n",
    "    sent_list.append(raw_sent)\n",
    "    hedged_sent_list.append(hedged_sents)\n",
    "    hed_list.append(hedges)\n",
    "    span_list.append(spans)\n",
    "    "
   ]
  },
  {
   "cell_type": "code",
   "execution_count": null,
   "metadata": {
    "execution": {
     "iopub.execute_input": "2025-03-22T22:50:10.087526Z",
     "iopub.status.busy": "2025-03-22T22:50:10.087168Z",
     "iopub.status.idle": "2025-03-22T22:50:10.545573Z",
     "shell.execute_reply": "2025-03-22T22:50:10.544875Z",
     "shell.execute_reply.started": "2025-03-22T22:50:10.087493Z"
    },
    "trusted": true
   },
   "outputs": [],
   "source": [
    "# Data dictionary\n",
    "\n",
    "data_dict = {'sentence_id':unq_list, 'sentence':sent_list, 'hedged_sentence':hedged_sent_list, 'speculative_cues':hed_list, 'scope_string':span_list}\n",
    "df_dict = pd.DataFrame(data_dict)\n",
    "\n",
    "df_dict.to_csv(f'/kaggle/working/{data}_data_dic.csv',  index=False)"
   ]
  },
  {
   "cell_type": "markdown",
   "metadata": {},
   "source": [
    "# Create dataloaders\n"
   ]
  },
  {
   "cell_type": "code",
   "execution_count": null,
   "metadata": {
    "execution": {
     "iopub.execute_input": "2025-03-22T22:50:10.603130Z",
     "iopub.status.busy": "2025-03-22T22:50:10.602880Z",
     "iopub.status.idle": "2025-03-22T22:50:10.622764Z",
     "shell.execute_reply": "2025-03-22T22:50:10.621932Z",
     "shell.execute_reply.started": "2025-03-22T22:50:10.603110Z"
    },
    "trusted": true
   },
   "outputs": [],
   "source": [
    "# Creates dictionary with input_tokens, att_mask, targets tensors\n",
    "\n",
    "class Dataset_gen(Dataset):\n",
    "\n",
    "    def __init__(self,sentences,targets,att_masks):\n",
    "        self.sent = sentences\n",
    "        self.tar = targets\n",
    "        self.att = att_masks\n",
    "        \n",
    "    def __len__(self):\n",
    "        return len(self.sent)\n",
    "    \n",
    "    def __getitem__(self, item):\n",
    "        sent = torch.tensor(self.sent[item])\n",
    "        target = torch.tensor(self.tar[item])\n",
    "        att = torch.tensor(self.att[item])\n",
    "        ret_dict = {'input':sent,'attention_mask':att,'targets':target}\n",
    "        \n",
    "        return ret_dict"
   ]
  },
  {
   "cell_type": "code",
   "execution_count": null,
   "metadata": {
    "execution": {
     "iopub.execute_input": "2025-03-22T22:50:10.623943Z",
     "iopub.status.busy": "2025-03-22T22:50:10.623681Z",
     "iopub.status.idle": "2025-03-22T22:50:10.640239Z",
     "shell.execute_reply": "2025-03-22T22:50:10.639496Z",
     "shell.execute_reply.started": "2025-03-22T22:50:10.623920Z"
    },
    "trusted": true
   },
   "outputs": [],
   "source": [
    "# Data loader \n",
    "\n",
    "def dataloader_gen(sent,data2mark,trans_model,tokenizer,max_len,batch_size):\n",
    "    spans = data2mark  \n",
    "    \n",
    "    b = Biot2_dataset(sent,spans,trans_model,tokenizer,max_len)\n",
    "        \n",
    "    x,att,y = b.tokenids_gen()\n",
    "    \n",
    "    data = Dataset_gen(x,y,att)\n",
    "    \n",
    "    return DataLoader(data,batch_size=batch_size)\n"
   ]
  },
  {
   "cell_type": "code",
   "execution_count": null,
   "metadata": {
    "execution": {
     "iopub.execute_input": "2025-03-22T22:50:10.641477Z",
     "iopub.status.busy": "2025-03-22T22:50:10.641141Z",
     "iopub.status.idle": "2025-03-22T22:50:10.656406Z",
     "shell.execute_reply": "2025-03-22T22:50:10.655706Z",
     "shell.execute_reply.started": "2025-03-22T22:50:10.641424Z"
    },
    "trusted": true
   },
   "outputs": [],
   "source": [
    "# leng_more = list of indices with sent tokens length > max_len\n",
    "\n",
    "def remove_big_instances(data,sen_list,sent,data2mark,tokenizer,max_len):\n",
    "    l = list(data['sentence'])\n",
    "    leng_more = [i[0] for i in enumerate(l) if len(tokenizer.encode_plus(i[1],truncation=False,return_token_type_ids=True,return_attention_mask=True)['input_ids'])>max_len]\n",
    "    if(sen_list!=None):\n",
    "        sen_list = [i[1] for i in enumerate(sen_list) if i[0] not in leng_more]\n",
    "    sent = [i[1] for i in enumerate(sent) if i[0] not in leng_more]\n",
    "    data2mark = [i[1] for i in enumerate(data2mark) if i[0] not in leng_more]\n",
    "    return (leng_more,sen_list,sent,data2mark)"
   ]
  },
  {
   "cell_type": "code",
   "execution_count": null,
   "metadata": {
    "execution": {
     "iopub.execute_input": "2025-03-22T22:50:10.676690Z",
     "iopub.status.busy": "2025-03-22T22:50:10.676414Z",
     "iopub.status.idle": "2025-03-22T22:50:10.787063Z",
     "shell.execute_reply": "2025-03-22T22:50:10.786370Z",
     "shell.execute_reply.started": "2025-03-22T22:50:10.676667Z"
    },
    "trusted": true
   },
   "outputs": [],
   "source": [
    "# Convert hedged sentences to hashed sentences. Sent and spans used in Biot2_dataset\n",
    "\n",
    "sent_span_d = df['Hedged Sentence'].to_list()\n",
    "span_span_d = df['Span'].to_list()\n",
    "sen_t2list = None\n",
    "sent = []\n",
    "spans = []\n",
    "\n",
    "for i,d in enumerate(zip(sent_span_d,span_span_d)):\n",
    "    hs = d[0]\n",
    "    s = d[1]\n",
    "    if(hs.find('<h>')>-1):\n",
    "        hs = hs.replace('<span>','#')\n",
    "        hs = hs.replace('</span>','#')\n",
    "        hs = hs.replace('<h>','token[0]')\n",
    "        hs = hs.replace('</h>','')\n",
    "        s = s.replace('<h>','token[0]')\n",
    "        s = s.replace('</h>','')\n",
    "    elif(hs.find('<mh>')>-1):\n",
    "        hs = hs.replace('<span>','#')\n",
    "        hs = hs.replace('</span>','#')\n",
    "        hs = hs.replace('<mh>','token[1]')\n",
    "        hs = hs.replace('</mh>','')\n",
    "        s = s.replace('<mh>','token[1]')\n",
    "        s = s.replace('</mh>','')\n",
    "    if(type(s)!=str):\n",
    "        s = ''\n",
    "    sent.append(hs)\n",
    "    spans.append(s)"
   ]
  },
  {
   "cell_type": "code",
   "execution_count": null,
   "metadata": {
    "execution": {
     "iopub.execute_input": "2025-03-22T22:50:10.788187Z",
     "iopub.status.busy": "2025-03-22T22:50:10.787886Z",
     "iopub.status.idle": "2025-03-22T22:50:10.841130Z",
     "shell.execute_reply": "2025-03-22T22:50:10.840242Z",
     "shell.execute_reply.started": "2025-03-22T22:50:10.788154Z"
    },
    "trusted": true
   },
   "outputs": [],
   "source": [
    "# 0=out of scope, 1=in scope \n",
    "# Class to process input data\n",
    "\n",
    "class Biot2_dataset(Dataset):\n",
    "    def __init__(self,sentences,spans,trans_model,tokenizer,max_len):\n",
    "        self.sent = sentences\n",
    "        self.trans_model = trans_model\n",
    "        self.token = tokenizer\n",
    "        self.max = max_len\n",
    "        self.spans = spans\n",
    "        \n",
    "    def __len__(self):\n",
    "        return len(self.sent)\n",
    "    def tokenids_gen(self):\n",
    "        targets = []\n",
    "        senids=[]\n",
    "        attention_masks=[]\n",
    "        pad_token_ids = {'xlnet':5,'bert':0, 'scibert':0}\n",
    "        for s,sc in zip(self.sent,self.spans):\n",
    "            encodings = tokenizer.encode_plus(s,\n",
    "                                  return_tensors='pt',\n",
    "                                  truncation=False,\n",
    "                                  return_token_type_ids=True,\n",
    "                                  return_attention_mask=True,\n",
    "                                  )\n",
    "            \n",
    "            att = list(encodings['attention_mask'][0])\n",
    "            senid = list(encodings['input_ids'][0])\n",
    "            att = [i.item() for i in att]\n",
    "            senid = [i.item() for i in senid]\n",
    "            k = [tokenizer.decode(i) for i in senid]\n",
    "\n",
    "            tar = [0 for i in range(len(k))]\n",
    "            if(sc != ''):\n",
    "                idxstart = k.index('#')\n",
    "                idxend = k.index('#',idxstart+1)\n",
    "                tar[idxstart] = -1\n",
    "                tar[idxend] = -1\n",
    "                tar[idxstart+1:idxend] = [1 for i in range(idxend-idxstart-1)]\n",
    "            \n",
    "            \n",
    "                for i in range(2):\n",
    "                    idx = k.index('#')\n",
    "                    if(k[idx-1]==''):\n",
    "                        del k[idx-1:idx+1]\n",
    "                        del senid[idx-1:idx+1]\n",
    "                        del tar[idx-1:idx+1]\n",
    "                        del att[idx-1:idx+1]\n",
    "                    else:\n",
    "                        del k[idx]\n",
    "                        del senid[idx]\n",
    "                        del tar[idx]\n",
    "                        del att[idx]\n",
    "                \n",
    "            senid = [i for i,j in zip(senid,k) if re.search('[A-Za-z0-9]+', j)!=None]\n",
    "            tar = [i for i,j in zip(tar,k) if re.search('[A-Za-z0-9]+', j)!=None]\n",
    "            att = [i for i,j in zip(att,k) if re.search('[A-Za-z0-9]+', j)!=None]\n",
    "            k = [i for i in k if re.search('[A-Za-z0-9]+', i)!=None]\n",
    "            \n",
    "            if(len(k)!=len(tar)):\n",
    "                print(k)\n",
    "                print('#'*40)\n",
    "                \n",
    "            ## adding pad token at the end....\n",
    "            tar = tar+[0 for i in range(self.max - len(k))]\n",
    "            senid = senid+[pad_token_ids[self.trans_model] for i in range(self.max - len(k))]\n",
    "            att = att+[0 for i in range(self.max - len(k))]\n",
    "\n",
    "            targets.append(tar)\n",
    "            senids.append(senid)\n",
    "            attention_masks.append(att)\n",
    "        return (senids,attention_masks,targets)\n",
    "        \n",
    "data_span = df.reset_index().drop(columns=['index']).rename(columns = {'Raw Sentence': 'sentence'})\n",
    "data_span"
   ]
  },
  {
   "cell_type": "code",
   "execution_count": null,
   "metadata": {
    "execution": {
     "iopub.execute_input": "2025-03-22T22:50:10.842122Z",
     "iopub.status.busy": "2025-03-22T22:50:10.841917Z",
     "iopub.status.idle": "2025-03-22T22:50:43.251550Z",
     "shell.execute_reply": "2025-03-22T22:50:43.250846Z",
     "shell.execute_reply.started": "2025-03-22T22:50:10.842105Z"
    },
    "trusted": true
   },
   "outputs": [],
   "source": [
    "# Choose tokenizer type \n",
    "\n",
    "tokenizer1 = XLNetTokenizer.from_pretrained('xlnet-base-cased')\n",
    "\n",
    "tokenizer2 = BertTokenizer.from_pretrained('bert-base-cased')\n",
    "\n",
    "tokenizer3 = AutoTokenizer.from_pretrained('allenai/scibert_scivocab_cased')\n",
    "\n",
    "tokenizer_dict = {'xlnet':tokenizer1,'bert':tokenizer2,'scibert':tokenizer3}\n",
    "\n",
    "\n",
    "tokenizer = tokenizer_dict[trans_model]\n",
    "\n",
    "# Remove instances with length more than 100 (max_size might be changed)\n",
    "len_more,sen_t2list,sent,spans = remove_big_instances(data_span,sen_t2list,sent,spans,tokenizer,100)"
   ]
  },
  {
   "cell_type": "code",
   "execution_count": null,
   "metadata": {
    "execution": {
     "iopub.execute_input": "2025-03-22T22:50:43.255539Z",
     "iopub.status.busy": "2025-03-22T22:50:43.255268Z",
     "iopub.status.idle": "2025-03-22T22:50:43.260233Z",
     "shell.execute_reply": "2025-03-22T22:50:43.259522Z",
     "shell.execute_reply.started": "2025-03-22T22:50:43.255518Z"
    },
    "trusted": true
   },
   "outputs": [],
   "source": [
    "len(len_more)"
   ]
  },
  {
   "cell_type": "code",
   "execution_count": null,
   "metadata": {
    "execution": {
     "iopub.execute_input": "2025-03-22T22:50:43.261597Z",
     "iopub.status.busy": "2025-03-22T22:50:43.261362Z",
     "iopub.status.idle": "2025-03-22T22:52:11.716530Z",
     "shell.execute_reply": "2025-03-22T22:52:11.715617Z",
     "shell.execute_reply.started": "2025-03-22T22:50:43.261577Z"
    },
    "trusted": true
   },
   "outputs": [],
   "source": [
    "max_len = 100\n",
    "batch_size = 4\n",
    "\n",
    "# Define the percentages for train, validation, and test splits\n",
    "train_percentage = 0.7  # 70%\n",
    "val_percentage = 0.2    # 20%\n",
    "test_percentage = 0.1   # 10%\n",
    "\n",
    "# Calculate the sizes based on the dataset length\n",
    "total_samples = len(sent)\n",
    "train_size = int(total_samples * train_percentage)\n",
    "val_size = int(total_samples * val_percentage)\n",
    "test_size = total_samples - train_size - val_size\n",
    "\n",
    "y12 = spans  \n",
    "\n",
    "# Split the data into train, validation, and test sets using the calculated sizes\n",
    "sen_train, sen_temp, y12_train, y12_temp = train_test_split(sent, y12, test_size=(val_size + test_size), random_state=0)\n",
    "sen_val, sen_test, y12_val, y12_test = train_test_split(sen_temp, y12_temp, test_size=test_size / (val_size + test_size), random_state=0)\n",
    "\n",
    "# Create DataLoaders for the train, validation, and test sets\n",
    "train_data_loader = dataloader_gen(sen_train, y12_train, trans_model, tokenizer, max_len, batch_size)\n",
    "val_data_loader = dataloader_gen(sen_val, y12_val, trans_model, tokenizer, max_len, batch_size)\n",
    "test_data_loader = dataloader_gen(sen_test, y12_test, trans_model, tokenizer, max_len, batch_size)\n"
   ]
  },
  {
   "cell_type": "code",
   "execution_count": null,
   "metadata": {
    "execution": {
     "iopub.execute_input": "2025-03-22T22:52:11.717731Z",
     "iopub.status.busy": "2025-03-22T22:52:11.717475Z",
     "iopub.status.idle": "2025-03-22T22:52:11.722549Z",
     "shell.execute_reply": "2025-03-22T22:52:11.721788Z",
     "shell.execute_reply.started": "2025-03-22T22:52:11.717684Z"
    },
    "trusted": true
   },
   "outputs": [],
   "source": [
    "len(sent)"
   ]
  },
  {
   "cell_type": "code",
   "execution_count": null,
   "metadata": {
    "execution": {
     "iopub.execute_input": "2025-03-22T22:52:11.723429Z",
     "iopub.status.busy": "2025-03-22T22:52:11.723217Z",
     "iopub.status.idle": "2025-03-22T22:52:11.738931Z",
     "shell.execute_reply": "2025-03-22T22:52:11.738172Z",
     "shell.execute_reply.started": "2025-03-22T22:52:11.723403Z"
    },
    "trusted": true
   },
   "outputs": [],
   "source": [
    "len(sen_train)"
   ]
  },
  {
   "cell_type": "code",
   "execution_count": null,
   "metadata": {
    "execution": {
     "iopub.execute_input": "2025-03-22T22:52:11.740233Z",
     "iopub.status.busy": "2025-03-22T22:52:11.739944Z",
     "iopub.status.idle": "2025-03-22T22:52:11.753134Z",
     "shell.execute_reply": "2025-03-22T22:52:11.752345Z",
     "shell.execute_reply.started": "2025-03-22T22:52:11.740203Z"
    },
    "trusted": true
   },
   "outputs": [],
   "source": [
    "len(sen_val)"
   ]
  },
  {
   "cell_type": "code",
   "execution_count": null,
   "metadata": {
    "execution": {
     "iopub.execute_input": "2025-03-22T22:52:11.754325Z",
     "iopub.status.busy": "2025-03-22T22:52:11.754071Z",
     "iopub.status.idle": "2025-03-22T22:52:11.768008Z",
     "shell.execute_reply": "2025-03-22T22:52:11.767363Z",
     "shell.execute_reply.started": "2025-03-22T22:52:11.754295Z"
    },
    "trusted": true
   },
   "outputs": [],
   "source": [
    "len(sen_test)"
   ]
  },
  {
   "cell_type": "markdown",
   "metadata": {},
   "source": [
    "# Training"
   ]
  },
  {
   "cell_type": "code",
   "execution_count": null,
   "metadata": {
    "trusted": true
   },
   "outputs": [],
   "source": [
    "# Model\n",
    "# Select model based on 'trans_model' variable\n",
    "class scoperes_model(nn.Module):\n",
    "    def __init__(self):\n",
    "        super().__init__()\n",
    "        if trans_model == 'xlnet':\n",
    "            self.model = XLNetModel.from_pretrained('xlnet-base-cased')\n",
    "        elif trans_model == 'bert':\n",
    "            self.model = BertModel.from_pretrained('bert-base-cased')\n",
    "        elif trans_model == 'scibert':\n",
    "            self.model = AutoModel.from_pretrained('allenai/scibert_scivocab_cased')\n",
    "        else:\n",
    "            raise ValueError(\"Invalid model name. Choose 'xlnet', 'bert', or 'scibert'.\")\n",
    "        \n",
    "        self.lin = nn.Linear(768, 2)\n",
    "\n",
    "    def forward(self, x, att):\n",
    "        xl = self.model(x, attention_mask=att)[0]\n",
    "        xl = xl.view(-1, xl.shape[2])\n",
    "        lin = self.lin(xl)\n",
    "        return lin  \n"
   ]
  },
  {
   "cell_type": "code",
   "execution_count": null,
   "metadata": {
    "execution": {
     "iopub.execute_input": "2025-03-22T22:52:11.797389Z",
     "iopub.status.busy": "2025-03-22T22:52:11.797101Z",
     "iopub.status.idle": "2025-03-22T22:52:11.862636Z",
     "shell.execute_reply": "2025-03-22T22:52:11.861801Z",
     "shell.execute_reply.started": "2025-03-22T22:52:11.797359Z"
    },
    "trusted": true
   },
   "outputs": [],
   "source": [
    "device = torch.device(\"cuda\" if torch.cuda.is_available() else \"cpu\")\n",
    "print(device)"
   ]
  },
  {
   "cell_type": "code",
   "execution_count": null,
   "metadata": {
    "execution": {
     "iopub.execute_input": "2025-03-22T22:52:11.863615Z",
     "iopub.status.busy": "2025-03-22T22:52:11.863327Z",
     "iopub.status.idle": "2025-03-22T22:52:14.591734Z",
     "shell.execute_reply": "2025-03-22T22:52:14.590915Z",
     "shell.execute_reply.started": "2025-03-22T22:52:11.863593Z"
    },
    "trusted": true
   },
   "outputs": [],
   "source": [
    "model = scoperes_model()\n",
    "model.to(device)"
   ]
  },
  {
   "cell_type": "code",
   "execution_count": null,
   "metadata": {
    "execution": {
     "iopub.execute_input": "2025-03-22T22:52:14.592867Z",
     "iopub.status.busy": "2025-03-22T22:52:14.592616Z",
     "iopub.status.idle": "2025-03-22T22:52:14.598479Z",
     "shell.execute_reply": "2025-03-22T22:52:14.597511Z",
     "shell.execute_reply.started": "2025-03-22T22:52:14.592846Z"
    },
    "trusted": true
   },
   "outputs": [],
   "source": [
    "# Evaluation function\n",
    "\n",
    "def evaluate(model,val_data):\n",
    "    model.eval()\n",
    "    model.to(device)\n",
    "    main_loss = 0\n",
    "    true=[]\n",
    "    pred=[]\n",
    "    with torch.no_grad():\n",
    "        for i,d in enumerate(val_data):\n",
    "            inp = d['input'].to(device)\n",
    "            att = d['attention_mask'].to(device)\n",
    "            targets = d['targets'].view(-1).to(device)\n",
    "            \n",
    "            logits = model(inp,att)  \n",
    "            \n",
    "            loss = cse_loss(logits,targets)\n",
    "            main_loss += loss.item()\n",
    "            \n",
    "            _,predictions = torch.max(logits,dim=1)\n",
    "            \n",
    "            targets = targets.cpu().detach().numpy()\n",
    "            predictions = predictions.cpu().detach().numpy()\n",
    "        \n",
    "            true += list(targets)\n",
    "            pred += list(predictions)\n",
    "                \n",
    "        main_loss = main_loss/(i+1)\n",
    "    return (main_loss,true,pred)"
   ]
  },
  {
   "cell_type": "code",
   "execution_count": null,
   "metadata": {
    "execution": {
     "iopub.execute_input": "2025-03-22T22:52:14.641065Z",
     "iopub.status.busy": "2025-03-22T22:52:14.640826Z",
     "iopub.status.idle": "2025-03-22T23:26:22.768491Z",
     "shell.execute_reply": "2025-03-22T23:26:22.767785Z",
     "shell.execute_reply.started": "2025-03-22T22:52:14.641033Z"
    },
    "trusted": true
   },
   "outputs": [],
   "source": [
    "# Train \n",
    "\n",
    "epochs = 5\n",
    "optimizer = torch.optim.AdamW(model.parameters(), lr=3e-5)\n",
    "cse_loss = torch.nn.CrossEntropyLoss()\n",
    "\n",
    "loss_list = []\n",
    "\n",
    "# Output directory\n",
    "output_dir = '/kaggle/working/output_metrics/'\n",
    "os.makedirs(output_dir, exist_ok=True)\n",
    "\n",
    "# Lists to store training and validation metrics\n",
    "metrics = []\n",
    "\n",
    "# Training Loop\n",
    "for ep in range(epochs):\n",
    "    total_loss = 0\n",
    "    true, pred = [], []\n",
    "    model.train()\n",
    "\n",
    "    # Training phase\n",
    "    for i, d in enumerate(train_data_loader):\n",
    "        if(i%300 == 299):\n",
    "            print('batch - ',i+1)\n",
    "        \n",
    "        inp = d['input'].to(device)\n",
    "        att = d['attention_mask'].to(device)\n",
    "        targets = d['targets'].view(-1).to(device)\n",
    "        \n",
    "        logits = model(inp, att)\n",
    "        \n",
    "        loss = cse_loss(logits, targets)\n",
    "\n",
    "        _, predictions = torch.max(logits, dim=1)\n",
    "        \n",
    "        targets = targets.cpu().detach().numpy()\n",
    "        predictions = predictions.cpu().detach().numpy()\n",
    "\n",
    "        true += list(targets)\n",
    "        pred += list(predictions)\n",
    "        \n",
    "        total_loss += loss.item()\n",
    "\n",
    "        loss.backward()\n",
    "        optimizer.step()\n",
    "        optimizer.zero_grad()\n",
    "        \n",
    "    total_loss = total_loss/(i+1)\n",
    "\n",
    "    f1 = f1_score(true,pred,average='macro')\n",
    "    acc = accuracy_score(true, pred)\n",
    "    cm = confusion_matrix(true, pred)\n",
    "    print('epoch : ',ep+1,' --','\\n','loss : ',total_loss,'\\t','f1 : ',f1,'\\t','acc : ',acc)\n",
    "    print('train confusion matrix :')\n",
    "    print(cm)\n",
    "    print(classification_report(true, pred))\n",
    "    \n",
    "    # Confusion Matrix plot\n",
    "    plt.figure(figsize=(8, 6))\n",
    "    sns.heatmap(cm, annot=True, fmt='d', cmap='Blues', \n",
    "                xticklabels=['out-scope', 'in-scope'],\n",
    "                yticklabels=['out-scope', 'in-scope'])\n",
    "    plt.title(f'{trans_model} - Span Confusion Matrix')\n",
    "    plt.xlabel('Predicted')\n",
    "    plt.ylabel('Actual')\n",
    "    plt.tight_layout()\n",
    "    plt.savefig(os.path.join(output_dir, f'{trans_model}_{data}_span_train_confusion_matrix.png'))\n",
    "    plt.close()\n",
    "    \n",
    "    # Validation phase\n",
    "    val_loss, val_true, val_pred = evaluate(model=model, val_data=val_data_loader)\n",
    "\n",
    "    # Compute validation metrics\n",
    "    val_precision = precision_score(val_true, val_pred, pos_label=1)\n",
    "    val_recall = recall_score(val_true, val_pred, pos_label=1)\n",
    "    val_f1 = f1_score(val_true, val_pred, average='macro')\n",
    "    val_acc = accuracy_score(val_true, val_pred)\n",
    "    val_cm = confusion_matrix(val_true, val_pred)\n",
    "\n",
    "    print(f'Epoch {ep+1}/{epochs}')\n",
    "    print(f'val loss: {val_loss}\\t val_f1: {val_f1}\\t val_acc: {val_acc}')\n",
    "    print('val confusion matrix :')\n",
    "    print(val_cm)\n",
    "\n",
    "    # Confusion Matrix plot\n",
    "    plt.figure(figsize=(8, 6))\n",
    "    sns.heatmap(val_cm, annot=True, fmt='d', cmap='Blues', \n",
    "                xticklabels=['out-scope', 'in-scope'],\n",
    "                yticklabels=['out-scope', 'in-scope'])\n",
    "    plt.title(f'{trans_model} - Span Val Confusion Matrix')\n",
    "    plt.xlabel('Predicted')\n",
    "    plt.ylabel('Actual')\n",
    "    plt.tight_layout()\n",
    "    plt.savefig(os.path.join(output_dir, f'{trans_model}_{data}_span_val_confusion_matrix.png'))\n",
    "    plt.close()\n",
    "    \n",
    "    # Save model\n",
    "    torch.save(model, f'/kaggle/working/{trans_model}_{data}_span_only_model_ep{ep+1}.pt')\n",
    "    \n",
    "    loss_list.append({'train_loss':total_loss,'val_loss':val_loss})\n",
    "    \n",
    "    # Store metrics for CSV\n",
    "    metrics.append({\n",
    "        'model_name': trans_model,\n",
    "        'epoch': ep + 1,\n",
    "        'train_data': data,\n",
    "        'total_train_loss': total_loss,\n",
    "        'total_train_f1': f1,\n",
    "        'train_acc': acc,\n",
    "        'val_loss': val_loss,\n",
    "        'val_precision': val_precision,\n",
    "        'val_recall': val_recall,\n",
    "        'val_f1': val_f1,\n",
    "        'val_acc': val_acc,\n",
    "        \n",
    "    })\n",
    "\n",
    "# Save metrics to CSV\n",
    "df_train_span = pd.DataFrame(metrics)\n",
    "csv_path = os.path.join(output_dir, 'span_training_metrics.csv')\n",
    "df_train_span.to_csv(csv_path, index=False)\n",
    "print(f\"Span train metrics saved to {csv_path}\")\n"
   ]
  },
  {
   "cell_type": "code",
   "execution_count": null,
   "metadata": {
    "execution": {
     "iopub.execute_input": "2025-03-22T23:59:31.980306Z",
     "iopub.status.busy": "2025-03-22T23:59:31.979978Z",
     "iopub.status.idle": "2025-03-23T00:00:44.245722Z",
     "shell.execute_reply": "2025-03-23T00:00:44.244950Z",
     "shell.execute_reply.started": "2025-03-22T23:59:31.980274Z"
    },
    "trusted": true
   },
   "outputs": [],
   "source": [
    "# Results on Test Data\n",
    "\n",
    "# Define model name\n",
    "model_name = trans_model\n",
    "\n",
    "# Store results in a list\n",
    "test_metrics = []\n",
    "\n",
    "# Evaluate on test data\n",
    "print(f'{trans_model} MODEL RESULTS ON {data} TEST DATA')\n",
    "root = '/kaggle/working/'\n",
    "\n",
    "for model_name in os.listdir(root):\n",
    "    model_path = root+model_name\n",
    "    if model_name[-3:] != '.pt':\n",
    "        continue\n",
    "    model = torch.load(model_path)\n",
    "    model.to(device)\n",
    "    test_loss,test_true,test_pred = evaluate(model=model,val_data=test_data_loader)\n",
    "\n",
    "    print(\"Evaluate function outputs:\")\n",
    "    print(f\"Test Loss: {test_loss}\")\n",
    "    \n",
    "    # Compute evaluation metrics\n",
    "    precision = precision_score(test_true, test_pred, pos_label=1)\n",
    "    recall = recall_score(test_true, test_pred, pos_label=1)\n",
    "    test_f1 = f1_score(test_true, test_pred, average='macro')\n",
    "    test_acc = accuracy_score(test_true, test_pred)\n",
    "    test_cm = confusion_matrix(test_true, test_pred)\n",
    "                               \n",
    "    # Print results\n",
    "    print(f'Model: {model_name}')\n",
    "    print(f'Test Loss: {test_loss:.4f} | Test precision F1: {precision:.4f} | Test recall: {recall:.4f} | Test F1: {test_f1:.4f} | Test Accuracy: {test_acc:.4f}')\n",
    "    print('Test Confusion Matrix:')\n",
    "    print(test_cm)\n",
    "    print(classification_report(test_true, test_pred))\n",
    "    print('\\n')\n",
    "\n",
    "    # Confusion Matrix plot\n",
    "    plt.figure(figsize=(8, 6))\n",
    "    sns.heatmap(val_cm, annot=True, fmt='d', cmap='Blues', \n",
    "                xticklabels=['out-scope', 'in-scope'],\n",
    "                yticklabels=['out-scope', 'in-scope'])\n",
    "    plt.title(f'{model_name} - Span Test Confusion Matrix')\n",
    "    plt.xlabel('Predicted')\n",
    "    plt.ylabel('Actual')\n",
    "    plt.tight_layout()\n",
    "    plt.savefig(os.path.join(output_dir, f'{model_name}_{data}_span_test_confusion_matrix.png'))\n",
    "    plt.close()\n",
    "\n",
    "    \n",
    "    # Store metrics for CSV\n",
    "    test_metrics.append({\n",
    "        'model_name': model_name,\n",
    "        'train_data': data,\n",
    "        'test_loss': test_loss,\n",
    "        'test_precision': precision,\n",
    "        'test_recall': recall,\n",
    "        'test_f1': test_f1,\n",
    "        'test_accuracy': test_acc,\n",
    "        \n",
    "    })\n",
    "\n",
    "# Save test metrics to CSV\n",
    "df_test_span = pd.DataFrame(test_metrics)\n",
    "metrics_path = os.path.join(output_dir, 'span_test_metrics.csv')\n",
    "df_test_span.to_csv(metrics_path, index=False)\n",
    "print(f'Span test metrics saved to {csv_path}')"
   ]
  }
 ],
 "metadata": {
  "kaggle": {
   "accelerator": "gpu",
   "dataSources": [
    {
     "datasetId": 6206702,
     "sourceId": 10070075,
     "sourceType": "datasetVersion"
    },
    {
     "datasetId": 6954957,
     "sourceId": 11148213,
     "sourceType": "datasetVersion"
    }
   ],
   "dockerImageVersionId": 30839,
   "isGpuEnabled": true,
   "isInternetEnabled": true,
   "language": "python",
   "sourceType": "notebook"
  },
  "kernelspec": {
   "display_name": "Python 3",
   "language": "python",
   "name": "python3"
  },
  "language_info": {
   "codemirror_mode": {
    "name": "ipython",
    "version": 3
   },
   "file_extension": ".py",
   "mimetype": "text/x-python",
   "name": "python",
   "nbconvert_exporter": "python",
   "pygments_lexer": "ipython3",
   "version": "3.10.12"
  }
 },
 "nbformat": 4,
 "nbformat_minor": 4
}
